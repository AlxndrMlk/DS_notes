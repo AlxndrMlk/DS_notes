{
 "cells": [
  {
   "cell_type": "markdown",
   "metadata": {},
   "source": [
    "# XGBoost tuning routine #1"
   ]
  },
  {
   "cell_type": "code",
   "execution_count": 18,
   "metadata": {},
   "outputs": [],
   "source": [
    "# Define sets tuple\n",
    "# sets = (X_train_dev, X_test_dev, y_train_dev, y_test_dev, X_train_hold, X_test_hold, y_train_hold, y_test_hold)"
   ]
  },
  {
   "cell_type": "code",
   "execution_count": 19,
   "metadata": {},
   "outputs": [],
   "source": [
    "# Find preliminary n_rounds\n",
    "params_1 = {'seed': [12345],\n",
    "    'eta': [.1],\n",
    "    'max_depth': [5],  \n",
    "    'min_child_weight': [1],\n",
    "    'gamma': [0],\n",
    "    'subsample': [0.8],\n",
    "    'colsample_bytree': [0.8],\n",
    "    'eval_metric': ['mae'],\n",
    "    'early_stopping_rounds': [50]}\n",
    "     \n",
    "n_rounds_1 = list(set([int(round(x)) for x in np.logspace(.05, 3, base=10)]))  # the number of training iterations"
   ]
  },
  {
   "cell_type": "code",
   "execution_count": 20,
   "metadata": {},
   "outputs": [
    {
     "name": "stdout",
     "output_type": "stream",
     "text": [
      "Best model\n",
      "\n",
      "Results:\n",
      "{'MAE_DEV': 421.12691464146206, 'MAE_HOLD': 513.5078534570969, 'MAE_AVG': 467.31738404927944}\n",
      "\n",
      "Params:    \n",
      "{'colsample_bytree': 0.8, 'early_stopping_rounds': 50, 'eta': 0.1, 'eval_metric': 'mae', 'gamma': 0, 'max_depth': 5, 'min_child_weight': 1, 'seed': 12345, 'subsample': 0.8}\n",
      "\n",
      "# rounds:\n",
      "7\n"
     ]
    }
   ],
   "source": [
    "pipeline(mrsn_ariel_train_dev, mrsn_ariel_test_dev, mrsn_ariel_train_hold, mrsn_ariel_test_hold, \n",
    "         to_drop, params_1, n_rounds_1)"
   ]
  },
  {
   "cell_type": "code",
   "execution_count": 21,
   "metadata": {},
   "outputs": [],
   "source": [
    "end_signal()"
   ]
  },
  {
   "cell_type": "code",
   "execution_count": 22,
   "metadata": {},
   "outputs": [],
   "source": [
    "# Tune max_depth and min_child_weight\n",
    "params_2 = {'seed': [12345],\n",
    "    'eta': [.1],\n",
    "    'max_depth': list(range(1,16,2)),  \n",
    "    'min_child_weight': list(range(1,6,2)),\n",
    "    'gamma': [0],\n",
    "    'subsample': [0.8],\n",
    "    'colsample_bytree': [0.8],\n",
    "    'eval_metric': ['mae'],\n",
    "    'early_stopping_rounds': [50]}\n",
    "     \n",
    "n_rounds_2 = [7]"
   ]
  },
  {
   "cell_type": "code",
   "execution_count": 23,
   "metadata": {},
   "outputs": [
    {
     "name": "stdout",
     "output_type": "stream",
     "text": [
      "Best model\n",
      "\n",
      "Results:\n",
      "{'MAE_DEV': 413.56689724807745, 'MAE_HOLD': 511.2232361136302, 'MAE_AVG': 462.3950666808538}\n",
      "\n",
      "Params:    \n",
      "{'colsample_bytree': 0.8, 'early_stopping_rounds': 50, 'eta': 0.1, 'eval_metric': 'mae', 'gamma': 0, 'max_depth': 11, 'min_child_weight': 5, 'seed': 12345, 'subsample': 0.8}\n",
      "\n",
      "# rounds:\n",
      "7\n"
     ]
    }
   ],
   "source": [
    "pipeline(mrsn_ariel_train_dev, mrsn_ariel_test_dev, mrsn_ariel_train_hold, mrsn_ariel_test_hold, \n",
    "         to_drop, params_2, n_rounds_2)"
   ]
  },
  {
   "cell_type": "code",
   "execution_count": 24,
   "metadata": {},
   "outputs": [],
   "source": [
    "# Fine-tune max_depth and min_child_weight\n",
    "params_3 = {'seed': [12345],\n",
    "    'eta': [.1],\n",
    "    'max_depth': [10,11,12],  \n",
    "    'min_child_weight': [4,5,6],\n",
    "    'gamma': [0],\n",
    "    'subsample': [0.8],\n",
    "    'colsample_bytree': [0.8],\n",
    "    'eval_metric': ['mae'],\n",
    "    'early_stopping_rounds': [50]}\n",
    "     \n",
    "n_rounds_3 = [7]"
   ]
  },
  {
   "cell_type": "code",
   "execution_count": 25,
   "metadata": {},
   "outputs": [
    {
     "name": "stdout",
     "output_type": "stream",
     "text": [
      "Best model\n",
      "\n",
      "Results:\n",
      "{'MAE_DEV': 413.56689724807745, 'MAE_HOLD': 511.2232361136302, 'MAE_AVG': 462.3950666808538}\n",
      "\n",
      "Params:    \n",
      "{'colsample_bytree': 0.8, 'early_stopping_rounds': 50, 'eta': 0.1, 'eval_metric': 'mae', 'gamma': 0, 'max_depth': 11, 'min_child_weight': 5, 'seed': 12345, 'subsample': 0.8}\n",
      "\n",
      "# rounds:\n",
      "7\n"
     ]
    }
   ],
   "source": [
    "pipeline(mrsn_ariel_train_dev, mrsn_ariel_test_dev, mrsn_ariel_train_hold, mrsn_ariel_test_hold, \n",
    "         to_drop, params_3, n_rounds_3)"
   ]
  },
  {
   "cell_type": "code",
   "execution_count": 28,
   "metadata": {},
   "outputs": [],
   "source": [
    "# Recalibrate n_rounds\n",
    "params_4 = {'seed': [12345],\n",
    "    'eta': [.1],\n",
    "    'max_depth': [11],  \n",
    "    'min_child_weight': [5],\n",
    "    'gamma': [0],\n",
    "    'subsample': [0.8],\n",
    "    'colsample_bytree': [0.8],\n",
    "    'eval_metric': ['mae'],\n",
    "    'early_stopping_rounds': [50]}\n",
    "     \n",
    "n_rounds_4 = list(set([int(round(x)) for x in np.logspace(.05, 2.5, base=10)]))"
   ]
  },
  {
   "cell_type": "code",
   "execution_count": 29,
   "metadata": {},
   "outputs": [
    {
     "name": "stdout",
     "output_type": "stream",
     "text": [
      "Best model\n",
      "\n",
      "Results:\n",
      "{'MAE_DEV': 413.56689724807745, 'MAE_HOLD': 511.2232361136302, 'MAE_AVG': 462.3950666808538}\n",
      "\n",
      "Params:    \n",
      "{'colsample_bytree': 0.8, 'early_stopping_rounds': 50, 'eta': 0.1, 'eval_metric': 'mae', 'gamma': 0, 'max_depth': 11, 'min_child_weight': 5, 'seed': 12345, 'subsample': 0.8}\n",
      "\n",
      "# rounds:\n",
      "7\n"
     ]
    }
   ],
   "source": [
    "pipeline(mrsn_ariel_train_dev, mrsn_ariel_test_dev, mrsn_ariel_train_hold, mrsn_ariel_test_hold, \n",
    "         to_drop, params_4, n_rounds_4)"
   ]
  },
  {
   "cell_type": "code",
   "execution_count": 30,
   "metadata": {},
   "outputs": [],
   "source": [
    "# Tune gamma\n",
    "params_5 = {'seed': [12345],\n",
    "    'eta': [.1],\n",
    "    'max_depth': [11],  \n",
    "    'min_child_weight': [5],\n",
    "    'gamma': [i/10.0 for i in range(0,10)],\n",
    "    'subsample': [0.8],\n",
    "    'colsample_bytree': [0.8],\n",
    "    'eval_metric': ['mae'],\n",
    "    'early_stopping_rounds': [50]}\n",
    "     \n",
    "n_rounds_5 = [7]"
   ]
  },
  {
   "cell_type": "code",
   "execution_count": 31,
   "metadata": {},
   "outputs": [
    {
     "name": "stdout",
     "output_type": "stream",
     "text": [
      "Best model\n",
      "\n",
      "Results:\n",
      "{'MAE_DEV': 413.56689724807745, 'MAE_HOLD': 511.2232361136302, 'MAE_AVG': 462.3950666808538}\n",
      "\n",
      "Params:    \n",
      "{'colsample_bytree': 0.8, 'early_stopping_rounds': 50, 'eta': 0.1, 'eval_metric': 'mae', 'gamma': 0.0, 'max_depth': 11, 'min_child_weight': 5, 'seed': 12345, 'subsample': 0.8}\n",
      "\n",
      "# rounds:\n",
      "7\n"
     ]
    }
   ],
   "source": [
    "pipeline(mrsn_ariel_train_dev, mrsn_ariel_test_dev, mrsn_ariel_train_hold, mrsn_ariel_test_hold, \n",
    "         to_drop, params_5, n_rounds_5)"
   ]
  },
  {
   "cell_type": "code",
   "execution_count": 32,
   "metadata": {},
   "outputs": [],
   "source": [
    "# Tune subsample and col_sample_bytree\n",
    "params_6 = {'seed': [12345],\n",
    "    'eta': [.1],\n",
    "    'max_depth': [11],  \n",
    "    'min_child_weight': [5],\n",
    "    'gamma': [0],\n",
    "    'subsample': [i/100 for i in range(50,101,5)],\n",
    "    'colsample_bytree': [i/100 for i in range(50,101,5)],\n",
    "    'eval_metric': ['mae'],\n",
    "    'early_stopping_rounds': [50]}\n",
    "     \n",
    "n_rounds_6 = [7]"
   ]
  },
  {
   "cell_type": "code",
   "execution_count": 33,
   "metadata": {},
   "outputs": [
    {
     "name": "stdout",
     "output_type": "stream",
     "text": [
      "Best model\n",
      "\n",
      "Results:\n",
      "{'MAE_DEV': 387.6556188816071, 'MAE_HOLD': 490.19280524883305, 'MAE_AVG': 438.9242120652201}\n",
      "\n",
      "Params:    \n",
      "{'colsample_bytree': 1.0, 'early_stopping_rounds': 50, 'eta': 0.1, 'eval_metric': 'mae', 'gamma': 0, 'max_depth': 11, 'min_child_weight': 5, 'seed': 12345, 'subsample': 0.5}\n",
      "\n",
      "# rounds:\n",
      "7\n"
     ]
    }
   ],
   "source": [
    "pipeline(mrsn_ariel_train_dev, mrsn_ariel_test_dev, mrsn_ariel_train_hold, mrsn_ariel_test_hold, \n",
    "         to_drop, params_6, n_rounds_6)"
   ]
  },
  {
   "cell_type": "code",
   "execution_count": 34,
   "metadata": {},
   "outputs": [],
   "source": [
    "# Tuning Regularization Parameters\n",
    "params_7 = {'seed': [12345],\n",
    "    'eta': [.1],\n",
    "    'max_depth': [11],  \n",
    "    'min_child_weight': [5],\n",
    "    'gamma': [0],\n",
    "    'subsample': [.5],\n",
    "    'colsample_bytree': [1],\n",
    "    'eval_metric': ['mae'],\n",
    "    'early_stopping_rounds': [50],\n",
    "    'alpha': [1e-5, 1e-3, 1e-2, 0.1, 1, 100]}\n",
    "     \n",
    "n_rounds_7 = [7]"
   ]
  },
  {
   "cell_type": "code",
   "execution_count": 35,
   "metadata": {},
   "outputs": [
    {
     "name": "stdout",
     "output_type": "stream",
     "text": [
      "Best model\n",
      "\n",
      "Results:\n",
      "{'MAE_DEV': 387.6552165417399, 'MAE_HOLD': 490.17391368916407, 'MAE_AVG': 438.914565115452}\n",
      "\n",
      "Params:    \n",
      "{'alpha': 1, 'colsample_bytree': 1, 'early_stopping_rounds': 50, 'eta': 0.1, 'eval_metric': 'mae', 'gamma': 0, 'max_depth': 11, 'min_child_weight': 5, 'seed': 12345, 'subsample': 0.5}\n",
      "\n",
      "# rounds:\n",
      "7\n"
     ]
    }
   ],
   "source": [
    "pipeline(mrsn_ariel_train_dev, mrsn_ariel_test_dev, mrsn_ariel_train_hold, mrsn_ariel_test_hold, \n",
    "         to_drop, params_7, n_rounds_7)"
   ]
  },
  {
   "cell_type": "code",
   "execution_count": 36,
   "metadata": {},
   "outputs": [],
   "source": [
    "# Fine-tune alpha\n",
    "params_8 = {'seed': [12345],\n",
    "    'eta': [.1],\n",
    "    'max_depth': [11],  \n",
    "    'min_child_weight': [5],\n",
    "    'gamma': [0],\n",
    "    'subsample': [.5],\n",
    "    'colsample_bytree': [1],\n",
    "    'eval_metric': ['mae'],\n",
    "    'early_stopping_rounds': [50],\n",
    "    'alpha': [.3, .6, 1, 1.6, 2, 3, 4, 10, 20, 50, 100]}\n",
    "     \n",
    "n_rounds_8 = [7]"
   ]
  },
  {
   "cell_type": "code",
   "execution_count": 37,
   "metadata": {
    "scrolled": true
   },
   "outputs": [
    {
     "name": "stdout",
     "output_type": "stream",
     "text": [
      "Best model\n",
      "\n",
      "Results:\n",
      "{'MAE_DEV': 387.4669001134192, 'MAE_HOLD': 489.25961180158373, 'MAE_AVG': 438.36325595750145}\n",
      "\n",
      "Params:    \n",
      "{'alpha': 20, 'colsample_bytree': 1, 'early_stopping_rounds': 50, 'eta': 0.1, 'eval_metric': 'mae', 'gamma': 0, 'max_depth': 11, 'min_child_weight': 5, 'seed': 12345, 'subsample': 0.5}\n",
      "\n",
      "# rounds:\n",
      "7\n"
     ]
    }
   ],
   "source": [
    "pipeline(mrsn_ariel_train_dev, mrsn_ariel_test_dev, mrsn_ariel_train_hold, mrsn_ariel_test_hold, \n",
    "         to_drop, params_8, n_rounds_8)"
   ]
  },
  {
   "cell_type": "code",
   "execution_count": 44,
   "metadata": {},
   "outputs": [],
   "source": [
    "# Fine-tune alpha even further\n",
    "params_8_1 = {'seed': [12345],\n",
    "    'eta': [.1],\n",
    "    'max_depth': [11],  \n",
    "    'min_child_weight': [5],\n",
    "    'gamma': [0],\n",
    "    'subsample': [.5],\n",
    "    'colsample_bytree': [1],\n",
    "    'eval_metric': ['mae'],\n",
    "    'early_stopping_rounds': [50],\n",
    "    'alpha': [15, 19, 20, 21, 22, 24, 25, 26, 30]}\n",
    "     \n",
    "n_rounds_8_1 = [7]"
   ]
  },
  {
   "cell_type": "code",
   "execution_count": 45,
   "metadata": {},
   "outputs": [
    {
     "name": "stdout",
     "output_type": "stream",
     "text": [
      "Best model\n",
      "\n",
      "Results:\n",
      "{'MAE_DEV': 386.9926689351695, 'MAE_HOLD': 489.2039524342268, 'MAE_AVG': 438.09831068469816}\n",
      "\n",
      "Params:    \n",
      "{'alpha': 26, 'colsample_bytree': 1, 'early_stopping_rounds': 50, 'eta': 0.1, 'eval_metric': 'mae', 'gamma': 0, 'max_depth': 11, 'min_child_weight': 5, 'seed': 12345, 'subsample': 0.5}\n",
      "\n",
      "# rounds:\n",
      "7\n"
     ]
    }
   ],
   "source": [
    "pipeline(mrsn_ariel_train_dev, mrsn_ariel_test_dev, mrsn_ariel_train_hold, mrsn_ariel_test_hold, \n",
    "         to_drop, params_8_1, n_rounds_8_1)"
   ]
  },
  {
   "cell_type": "code",
   "execution_count": 47,
   "metadata": {},
   "outputs": [],
   "source": [
    "# Tune lambda\n",
    "params_9 = {'seed': [12345],\n",
    "    'eta': [.1],\n",
    "    'max_depth': [11],  \n",
    "    'min_child_weight': [5],\n",
    "    'gamma': [0],\n",
    "    'subsample': [.5],\n",
    "    'colsample_bytree': [1],\n",
    "    'eval_metric': ['mae'],\n",
    "    'early_stopping_rounds': [50],\n",
    "    'alpha': [26],\n",
    "    'lambda': [.3, .6 ,1, 1.3, 1.6]}\n",
    "     \n",
    "n_rounds_9 = [7]"
   ]
  },
  {
   "cell_type": "code",
   "execution_count": 48,
   "metadata": {},
   "outputs": [
    {
     "name": "stdout",
     "output_type": "stream",
     "text": [
      "Best model\n",
      "\n",
      "Results:\n",
      "{'MAE_DEV': 386.9926689351695, 'MAE_HOLD': 489.2039524342268, 'MAE_AVG': 438.09831068469816}\n",
      "\n",
      "Params:    \n",
      "{'alpha': 26, 'colsample_bytree': 1, 'early_stopping_rounds': 50, 'eta': 0.1, 'eval_metric': 'mae', 'gamma': 0, 'lambda': 1, 'max_depth': 11, 'min_child_weight': 5, 'seed': 12345, 'subsample': 0.5}\n",
      "\n",
      "# rounds:\n",
      "7\n"
     ]
    }
   ],
   "source": [
    "pipeline(mrsn_ariel_train_dev, mrsn_ariel_test_dev, mrsn_ariel_train_hold, mrsn_ariel_test_hold, \n",
    "         to_drop, params_9, n_rounds_9)"
   ]
  },
  {
   "cell_type": "code",
   "execution_count": 49,
   "metadata": {},
   "outputs": [],
   "source": [
    "# Tune eta and retune n_rounds\n",
    "params_10 = {'seed': [12345],\n",
    "    'eta': [.001, .003, .006, .01, .03, .06, .1, .16, .2],\n",
    "    'max_depth': [11],  \n",
    "    'min_child_weight': [5],\n",
    "    'gamma': [0],\n",
    "    'subsample': [.5],\n",
    "    'colsample_bytree': [1],\n",
    "    'eval_metric': ['mae'],\n",
    "    'early_stopping_rounds': [50],\n",
    "    'alpha': [26],\n",
    "    'lambda': [1]}\n",
    "     \n",
    "n_rounds_10 = list(set([int(round(x)) for x in np.logspace(.05, 2.5, base=10)]))"
   ]
  },
  {
   "cell_type": "code",
   "execution_count": 50,
   "metadata": {},
   "outputs": [
    {
     "name": "stdout",
     "output_type": "stream",
     "text": [
      "Best model\n",
      "\n",
      "Results:\n",
      "{'MAE_DEV': 385.1763354132107, 'MAE_HOLD': 478.8894218425343, 'MAE_AVG': 432.0328786278725}\n",
      "\n",
      "Params:    \n",
      "{'alpha': 26, 'colsample_bytree': 1, 'early_stopping_rounds': 50, 'eta': 0.1, 'eval_metric': 'mae', 'gamma': 0, 'lambda': 1, 'max_depth': 11, 'min_child_weight': 5, 'seed': 12345, 'subsample': 0.5}\n",
      "\n",
      "# rounds:\n",
      "6\n"
     ]
    }
   ],
   "source": [
    "pipeline(mrsn_ariel_train_dev, mrsn_ariel_test_dev, mrsn_ariel_train_hold, mrsn_ariel_test_hold, \n",
    "         to_drop, params_10, n_rounds_10)"
   ]
  },
  {
   "cell_type": "code",
   "execution_count": 51,
   "metadata": {},
   "outputs": [],
   "source": [
    "best_params = {'alpha': 26, 'colsample_bytree': 1, 'early_stopping_rounds': 50, 'eta': 0.1, 'eval_metric': 'mae', 'gamma': 0, 'lambda': 1, 'max_depth': 11, 'min_child_weight': 5, 'seed': 12345, 'subsample': 0.5}"
   ]
  },
  {
   "cell_type": "code",
   "execution_count": 52,
   "metadata": {},
   "outputs": [
    {
     "name": "stdout",
     "output_type": "stream",
     "text": [
      "alpha = 26,\n",
      "colsample_bytree = 1,\n",
      "early_stopping_rounds = 50,\n",
      "eta = 0.1,\n",
      "eval_metric = mae,\n",
      "gamma = 0,\n",
      "lambda = 1,\n",
      "max_depth = 11,\n",
      "min_child_weight = 5,\n",
      "seed = 12345,\n",
      "subsample = 0.5,\n"
     ]
    }
   ],
   "source": [
    "for key, value in best_params.items():\n",
    "    print(f'{key} = {value},')"
   ]
  },
  {
   "cell_type": "code",
   "execution_count": null,
   "metadata": {},
   "outputs": [],
   "source": []
  }
 ],
 "metadata": {
  "kernelspec": {
   "display_name": "Python 3",
   "language": "python",
   "name": "python3"
  },
  "language_info": {
   "codemirror_mode": {
    "name": "ipython",
    "version": 3
   },
   "file_extension": ".py",
   "mimetype": "text/x-python",
   "name": "python",
   "nbconvert_exporter": "python",
   "pygments_lexer": "ipython3",
   "version": "3.6.5"
  }
 },
 "nbformat": 4,
 "nbformat_minor": 2
}
